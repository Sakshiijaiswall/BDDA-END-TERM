{
 "cells": [
  {
   "cell_type": "code",
   "execution_count": 1,
   "id": "c58e8135",
   "metadata": {},
   "outputs": [
    {
     "data": {
      "text/html": [
       "<img src=\"https://miro.medium.com/max/810/0*6rCBTaD7N99u8qRT\"/>"
      ],
      "text/plain": [
       "<IPython.core.display.Image object>"
      ]
     },
     "execution_count": 1,
     "metadata": {},
     "output_type": "execute_result"
    }
   ],
   "source": [
    "from IPython.display import Image\n",
    "from IPython.core.display import HTML \n",
    "Image(url= \"https://miro.medium.com/max/810/0*6rCBTaD7N99u8qRT\")"
   ]
  },
  {
   "cell_type": "code",
   "execution_count": 2,
   "id": "5c159cb9",
   "metadata": {},
   "outputs": [],
   "source": [
    "from pyspark.sql import SparkSession\n",
    "spark= SparkSession.builder.appName('insurance').getOrCreate()"
   ]
  },
  {
   "cell_type": "code",
   "execution_count": 3,
   "id": "9773bf30",
   "metadata": {},
   "outputs": [],
   "source": [
    "from pyspark.ml.regression import LinearRegression"
   ]
  },
  {
   "cell_type": "code",
   "execution_count": 4,
   "id": "64fb815a",
   "metadata": {},
   "outputs": [],
   "source": [
    "#!pip install pyspark"
   ]
  },
  {
   "cell_type": "code",
   "execution_count": 5,
   "id": "01a7bc8c",
   "metadata": {},
   "outputs": [],
   "source": [
    "dataset=spark.read.csv(\"insurance.csv\",inferSchema=True,header=True)"
   ]
  },
  {
   "cell_type": "code",
   "execution_count": 6,
   "id": "4113a3b2",
   "metadata": {},
   "outputs": [
    {
     "name": "stdout",
     "output_type": "stream",
     "text": [
      "+---+------+------+--------+------+---------+-----------+\n",
      "|age|   sex|   bmi|children|smoker|   region|    charges|\n",
      "+---+------+------+--------+------+---------+-----------+\n",
      "| 19|female|  27.9|       0|   yes|southwest|  16884.924|\n",
      "| 18|  male| 33.77|       1|    no|southeast|  1725.5523|\n",
      "| 28|  male|  33.0|       3|    no|southeast|   4449.462|\n",
      "| 33|  male|22.705|       0|    no|northwest|21984.47061|\n",
      "| 32|  male| 28.88|       0|    no|northwest|  3866.8552|\n",
      "| 31|female| 25.74|       0|    no|southeast|  3756.6216|\n",
      "| 46|female| 33.44|       1|    no|southeast|  8240.5896|\n",
      "| 37|female| 27.74|       3|    no|northwest|  7281.5056|\n",
      "| 37|  male| 29.83|       2|    no|northeast|  6406.4107|\n",
      "| 60|female| 25.84|       0|    no|northwest|28923.13692|\n",
      "| 25|  male| 26.22|       0|    no|northeast|  2721.3208|\n",
      "| 62|female| 26.29|       0|   yes|southeast| 27808.7251|\n",
      "| 23|  male|  34.4|       0|    no|southwest|   1826.843|\n",
      "| 56|female| 39.82|       0|    no|southeast| 11090.7178|\n",
      "| 27|  male| 42.13|       0|   yes|southeast| 39611.7577|\n",
      "| 19|  male|  24.6|       1|    no|southwest|   1837.237|\n",
      "| 52|female| 30.78|       1|    no|northeast| 10797.3362|\n",
      "| 23|  male|23.845|       0|    no|northeast| 2395.17155|\n",
      "| 56|  male|  40.3|       0|    no|southwest|  10602.385|\n",
      "| 30|  male|  35.3|       0|   yes|southwest|  36837.467|\n",
      "+---+------+------+--------+------+---------+-----------+\n",
      "only showing top 20 rows\n",
      "\n"
     ]
    }
   ],
   "source": [
    "dataset.show()"
   ]
  },
  {
   "cell_type": "code",
   "execution_count": 7,
   "id": "5ffb2ce3",
   "metadata": {},
   "outputs": [
    {
     "name": "stdout",
     "output_type": "stream",
     "text": [
      "root\n",
      " |-- age: integer (nullable = true)\n",
      " |-- sex: string (nullable = true)\n",
      " |-- bmi: double (nullable = true)\n",
      " |-- children: integer (nullable = true)\n",
      " |-- smoker: string (nullable = true)\n",
      " |-- region: string (nullable = true)\n",
      " |-- charges: double (nullable = true)\n",
      "\n"
     ]
    }
   ],
   "source": [
    "dataset.printSchema()"
   ]
  },
  {
   "cell_type": "code",
   "execution_count": 8,
   "id": "c618c047",
   "metadata": {},
   "outputs": [],
   "source": [
    "from pyspark.ml.linalg import Vectors\n",
    "from pyspark.ml.feature import VectorAssembler\n",
    "from pyspark.ml.feature import StringIndexer"
   ]
  },
  {
   "cell_type": "code",
   "execution_count": 9,
   "id": "526821d7",
   "metadata": {},
   "outputs": [],
   "source": [
    "indexers = [StringIndexer(inputCol=\"sex\", outputCol=\"Sex2\") , \n",
    "            StringIndexer(inputCol=\"smoker\", outputCol=\"smoker2\"),\n",
    "            StringIndexer(inputCol=\"region\", outputCol=\"region2\")\n",
    "           ]"
   ]
  },
  {
   "cell_type": "code",
   "execution_count": 10,
   "id": "76a68db0",
   "metadata": {},
   "outputs": [],
   "source": [
    "from pyspark.ml import Pipeline"
   ]
  },
  {
   "cell_type": "code",
   "execution_count": 11,
   "id": "0cba096d",
   "metadata": {},
   "outputs": [
    {
     "name": "stdout",
     "output_type": "stream",
     "text": [
      "+---+------+------+--------+------+---------+-----------+----+-------+-------+\n",
      "|age|   sex|   bmi|children|smoker|   region|    charges|Sex2|smoker2|region2|\n",
      "+---+------+------+--------+------+---------+-----------+----+-------+-------+\n",
      "| 19|female|  27.9|       0|   yes|southwest|  16884.924| 1.0|    1.0|    2.0|\n",
      "| 18|  male| 33.77|       1|    no|southeast|  1725.5523| 0.0|    0.0|    0.0|\n",
      "| 28|  male|  33.0|       3|    no|southeast|   4449.462| 0.0|    0.0|    0.0|\n",
      "| 33|  male|22.705|       0|    no|northwest|21984.47061| 0.0|    0.0|    1.0|\n",
      "| 32|  male| 28.88|       0|    no|northwest|  3866.8552| 0.0|    0.0|    1.0|\n",
      "| 31|female| 25.74|       0|    no|southeast|  3756.6216| 1.0|    0.0|    0.0|\n",
      "| 46|female| 33.44|       1|    no|southeast|  8240.5896| 1.0|    0.0|    0.0|\n",
      "| 37|female| 27.74|       3|    no|northwest|  7281.5056| 1.0|    0.0|    1.0|\n",
      "| 37|  male| 29.83|       2|    no|northeast|  6406.4107| 0.0|    0.0|    3.0|\n",
      "| 60|female| 25.84|       0|    no|northwest|28923.13692| 1.0|    0.0|    1.0|\n",
      "| 25|  male| 26.22|       0|    no|northeast|  2721.3208| 0.0|    0.0|    3.0|\n",
      "| 62|female| 26.29|       0|   yes|southeast| 27808.7251| 1.0|    1.0|    0.0|\n",
      "| 23|  male|  34.4|       0|    no|southwest|   1826.843| 0.0|    0.0|    2.0|\n",
      "| 56|female| 39.82|       0|    no|southeast| 11090.7178| 1.0|    0.0|    0.0|\n",
      "| 27|  male| 42.13|       0|   yes|southeast| 39611.7577| 0.0|    1.0|    0.0|\n",
      "| 19|  male|  24.6|       1|    no|southwest|   1837.237| 0.0|    0.0|    2.0|\n",
      "| 52|female| 30.78|       1|    no|northeast| 10797.3362| 1.0|    0.0|    3.0|\n",
      "| 23|  male|23.845|       0|    no|northeast| 2395.17155| 0.0|    0.0|    3.0|\n",
      "| 56|  male|  40.3|       0|    no|southwest|  10602.385| 0.0|    0.0|    2.0|\n",
      "| 30|  male|  35.3|       0|   yes|southwest|  36837.467| 0.0|    1.0|    2.0|\n",
      "+---+------+------+--------+------+---------+-----------+----+-------+-------+\n",
      "only showing top 20 rows\n",
      "\n"
     ]
    }
   ],
   "source": [
    "pipeline = Pipeline(stages=indexers)\n",
    "DF6 = pipeline.fit(dataset).transform(dataset)\n",
    "\n",
    "DF6.show()"
   ]
  },
  {
   "cell_type": "code",
   "execution_count": 12,
   "id": "9010bd5a",
   "metadata": {},
   "outputs": [],
   "source": [
    "drop_list =[\"sex\",\"smoker\",\"region\",\"children\",\"region2\"]\n",
    "data = DF6.select([column for column in DF6.columns if column not in drop_list])"
   ]
  },
  {
   "cell_type": "code",
   "execution_count": 13,
   "id": "25935f82",
   "metadata": {},
   "outputs": [
    {
     "name": "stdout",
     "output_type": "stream",
     "text": [
      "+---+------+-----------+----+-------+\n",
      "|age|   bmi|    charges|Sex2|smoker2|\n",
      "+---+------+-----------+----+-------+\n",
      "| 19|  27.9|  16884.924| 1.0|    1.0|\n",
      "| 18| 33.77|  1725.5523| 0.0|    0.0|\n",
      "| 28|  33.0|   4449.462| 0.0|    0.0|\n",
      "| 33|22.705|21984.47061| 0.0|    0.0|\n",
      "| 32| 28.88|  3866.8552| 0.0|    0.0|\n",
      "| 31| 25.74|  3756.6216| 1.0|    0.0|\n",
      "| 46| 33.44|  8240.5896| 1.0|    0.0|\n",
      "| 37| 27.74|  7281.5056| 1.0|    0.0|\n",
      "| 37| 29.83|  6406.4107| 0.0|    0.0|\n",
      "| 60| 25.84|28923.13692| 1.0|    0.0|\n",
      "| 25| 26.22|  2721.3208| 0.0|    0.0|\n",
      "| 62| 26.29| 27808.7251| 1.0|    1.0|\n",
      "| 23|  34.4|   1826.843| 0.0|    0.0|\n",
      "| 56| 39.82| 11090.7178| 1.0|    0.0|\n",
      "| 27| 42.13| 39611.7577| 0.0|    1.0|\n",
      "| 19|  24.6|   1837.237| 0.0|    0.0|\n",
      "| 52| 30.78| 10797.3362| 1.0|    0.0|\n",
      "| 23|23.845| 2395.17155| 0.0|    0.0|\n",
      "| 56|  40.3|  10602.385| 0.0|    0.0|\n",
      "| 30|  35.3|  36837.467| 0.0|    1.0|\n",
      "+---+------+-----------+----+-------+\n",
      "only showing top 20 rows\n",
      "\n"
     ]
    }
   ],
   "source": [
    "data.show()"
   ]
  },
  {
   "cell_type": "code",
   "execution_count": 14,
   "id": "ae2fda6e",
   "metadata": {},
   "outputs": [],
   "source": [
    "assembler = VectorAssembler(inputCols=[\"age\",\"bmi\",\"Sex2\",\"smoker2\"],outputCol=\"feature\")"
   ]
  },
  {
   "cell_type": "code",
   "execution_count": 15,
   "id": "3a437b35",
   "metadata": {},
   "outputs": [],
   "source": [
    "output = assembler.transform(data)"
   ]
  },
  {
   "cell_type": "code",
   "execution_count": 16,
   "id": "849e754f",
   "metadata": {},
   "outputs": [],
   "source": [
    "finnal_df=output.select(\"feature\",\"charges\")"
   ]
  },
  {
   "cell_type": "code",
   "execution_count": 17,
   "id": "4dda5eb3",
   "metadata": {},
   "outputs": [],
   "source": [
    "train_data,test_data = finnal_df.randomSplit([0.7,0.3])"
   ]
  },
  {
   "cell_type": "code",
   "execution_count": 18,
   "id": "070aaab5",
   "metadata": {},
   "outputs": [
    {
     "name": "stdout",
     "output_type": "stream",
     "text": [
      "+--------------------+-----------+\n",
      "|             feature|    charges|\n",
      "+--------------------+-----------+\n",
      "|[18.0,15.96,0.0,0.0]|  1694.7964|\n",
      "|[18.0,21.47,0.0,0.0]|  1702.4553|\n",
      "|[18.0,21.565,0.0,...|13747.87235|\n",
      "|[18.0,21.66,1.0,1.0]| 14283.4594|\n",
      "|[18.0,23.32,0.0,0.0]|  1711.0268|\n",
      "|[18.0,24.09,1.0,0.0]|  2201.0971|\n",
      "|[18.0,25.08,1.0,0.0]|  2196.4732|\n",
      "|[18.0,25.175,0.0,...|15518.18025|\n",
      "|[18.0,26.18,0.0,0.0]|  2304.0022|\n",
      "|[18.0,26.73,1.0,0.0]|  1615.7667|\n",
      "|[18.0,27.28,1.0,1.0]| 18223.4512|\n",
      "|[18.0,28.215,1.0,...| 2200.83085|\n",
      "|[18.0,28.31,0.0,0.0]|11272.33139|\n",
      "| [18.0,28.5,0.0,0.0]|   1712.227|\n",
      "|[18.0,29.165,1.0,...|7323.734819|\n",
      "|[18.0,30.115,1.0,...| 2203.47185|\n",
      "|[18.0,30.115,1.0,...| 21344.8467|\n",
      "|[18.0,30.14,0.0,0.0]|  1131.5066|\n",
      "|[18.0,30.305,1.0,...| 2203.73595|\n",
      "| [18.0,30.4,0.0,0.0]|   3481.868|\n",
      "+--------------------+-----------+\n",
      "only showing top 20 rows\n",
      "\n"
     ]
    }
   ],
   "source": [
    "train_data.show()"
   ]
  },
  {
   "cell_type": "code",
   "execution_count": 19,
   "id": "8be65171",
   "metadata": {},
   "outputs": [
    {
     "name": "stdout",
     "output_type": "stream",
     "text": [
      "+-------+------------------+\n",
      "|summary|           charges|\n",
      "+-------+------------------+\n",
      "|  count|               927|\n",
      "|   mean|13088.160894454144|\n",
      "| stddev| 12155.83895065082|\n",
      "|    min|         1131.5066|\n",
      "|    max|       63770.42801|\n",
      "+-------+------------------+\n",
      "\n"
     ]
    }
   ],
   "source": [
    "train_data.describe().show()"
   ]
  },
  {
   "cell_type": "code",
   "execution_count": 20,
   "id": "8beb0bdd",
   "metadata": {},
   "outputs": [],
   "source": [
    "#regression libarry\n",
    "from pyspark.ml.regression import LinearRegression"
   ]
  },
  {
   "cell_type": "code",
   "execution_count": 21,
   "id": "51cb9e6d",
   "metadata": {},
   "outputs": [],
   "source": [
    "#dependent and inpendent variable\n",
    "lm = LinearRegression(featuresCol=\"feature\",labelCol=\"charges\")"
   ]
  },
  {
   "cell_type": "code",
   "execution_count": 22,
   "id": "6f303294",
   "metadata": {},
   "outputs": [],
   "source": [
    "#training\n",
    "regressor=lm.fit(train_data)"
   ]
  },
  {
   "cell_type": "markdown",
   "id": "5b37542b",
   "metadata": {},
   "source": [
    "# y  = M1*x1+m2*x2+M3*x3+b"
   ]
  },
  {
   "cell_type": "code",
   "execution_count": 23,
   "id": "51958d72",
   "metadata": {},
   "outputs": [
    {
     "name": "stdout",
     "output_type": "stream",
     "text": [
      "The coefficients of the model are : DenseVector([275.8824, 308.2065, 39.0301, 24392.2132])\n"
     ]
    }
   ],
   "source": [
    "#coffecient\n",
    "#here m1 ,m2 and M3 are coffecient\n",
    "coefficient = regressor.coefficients\n",
    "print (\"The coefficients of the model are : %a\" %coefficient)"
   ]
  },
  {
   "cell_type": "code",
   "execution_count": 24,
   "id": "03220947",
   "metadata": {},
   "outputs": [
    {
     "name": "stdout",
     "output_type": "stream",
     "text": [
      "The Intercept of the model is : -12017.846096\n"
     ]
    }
   ],
   "source": [
    "#here b is intercept\n",
    "\n",
    "#Find out intercept Value\n",
    "intercept = regressor.intercept\n",
    "print (\"The Intercept of the model is : %f\" %intercept)"
   ]
  },
  {
   "cell_type": "code",
   "execution_count": 25,
   "id": "bdafc9ec",
   "metadata": {},
   "outputs": [
    {
     "name": "stderr",
     "output_type": "stream",
     "text": [
      "/opt/anaconda3/lib/python3.8/site-packages/pyspark/sql/context.py:125: FutureWarning: Deprecated in 3.0.0. Use SparkSession.builder.getOrCreate() instead.\n",
      "  warnings.warn(\n"
     ]
    },
    {
     "name": "stdout",
     "output_type": "stream",
     "text": [
      "+--------------------+-----------+-------------------+\n",
      "|             feature|    charges|         prediction|\n",
      "+--------------------+-----------+-------------------+\n",
      "|[18.0,17.29,0.0,1.0]| 12829.4551| 22669.141288549006|\n",
      "|[18.0,20.79,1.0,0.0]|  1607.5101| -605.3190114113131|\n",
      "|[18.0,21.78,0.0,0.0]|11884.04858|-339.22465263234517|\n",
      "|[18.0,22.99,0.0,0.0]|  1704.5681|  33.70523221580879|\n",
      "|[18.0,23.085,0.0,...| 1704.70015|  62.98485127413551|\n",
      "|[18.0,23.21,0.0,0.0]|  1121.8739| 101.51066582456588|\n",
      "|[18.0,23.75,0.0,0.0]|  1705.6245|  267.9421846824189|\n",
      "|[18.0,25.46,0.0,0.0]|  1708.0014|  794.9753277322907|\n",
      "|[18.0,26.125,0.0,...| 1708.92575|   999.932661140574|\n",
      "|[18.0,26.315,1.0,...| 2198.18985|   1097.52199171766|\n",
      "|[18.0,27.36,0.0,1.0]| 17178.6824| 25772.780908731584|\n",
      "|[18.0,29.37,0.0,0.0]|  1719.4363|  2000.062806869717|\n",
      "|[18.0,30.03,0.0,0.0]|  1720.3537| 2203.4791076959846|\n",
      "|[18.0,31.35,1.0,0.0]|  4561.1885| 2649.3418018089487|\n",
      "|[18.0,31.68,0.0,1.0]| 34303.1672| 27104.233059594415|\n",
      "|[18.0,32.12,1.0,0.0]|  2801.2588|  2886.660819439592|\n",
      "|[18.0,33.88,1.0,0.0]|11482.63485|  3429.104288309638|\n",
      "|[18.0,35.625,1.0,...| 2211.13075|  3966.924659433629|\n",
      "|[18.0,38.17,0.0,1.0]| 36307.7983| 29104.493351052704|\n",
      "|[18.0,39.82,1.0,0.0]|  1633.9618|  5259.850995746032|\n",
      "|[18.0,40.26,1.0,0.0]|  1634.5734|  5395.461862963542|\n",
      "|[18.0,40.28,1.0,0.0]|  2217.6012|  5401.625993291613|\n",
      "| [19.0,17.8,1.0,0.0]|   1727.785|-1250.9740779097046|\n",
      "| [19.0,19.8,0.0,0.0]|   1241.565| -673.5911375632695|\n",
      "| [19.0,20.3,0.0,0.0]|    1242.26| -519.4878793615517|\n",
      "| [19.0,20.9,0.0,0.0]|   1832.094|-334.56396951949137|\n",
      "| [19.0,21.7,1.0,1.0]|  13844.506| 24343.244535896454|\n",
      "|[19.0,21.755,0.0,...| 1627.28245| -71.04739799455456|\n",
      "| [19.0,24.6,0.0,0.0]|   1837.237|  805.8001411732148|\n",
      "|[19.0,24.605,1.0,...| 2709.24395|   846.371266215665|\n",
      "|[19.0,25.555,0.0,...| 2221.56445|  1100.137364338494|\n",
      "| [19.0,27.7,0.0,1.0]|  16297.846|  26153.45354185663|\n",
      "|[19.0,27.835,0.0,...| 1635.73365| 1802.8482217383225|\n",
      "|[19.0,27.93,1.0,0.0]|18838.70366| 1871.1579332570818|\n",
      "| [19.0,28.3,1.0,1.0]|   17081.08|  26377.40754415912|\n",
      "| [19.0,28.7,0.0,0.0]|   1253.936| 2069.4468584272927|\n",
      "| [19.0,29.8,1.0,0.0]|   1744.465| 2447.5041189315034|\n",
      "|[19.0,30.25,0.0,1.0]| 32548.3405| 26939.380158685388|\n",
      "|[19.0,30.495,1.0,...| 2128.43105| 2661.7076478318904|\n",
      "|[19.0,31.92,0.0,1.0]| 33750.2918| 27454.085041079124|\n",
      "+--------------------+-----------+-------------------+\n",
      "only showing top 40 rows\n",
      "\n"
     ]
    }
   ],
   "source": [
    "pred_results=regressor.evaluate(test_data)\n",
    "pred_results.predictions.show(40)"
   ]
  },
  {
   "cell_type": "code",
   "execution_count": 26,
   "id": "15462387",
   "metadata": {},
   "outputs": [],
   "source": [
    "#model Evaluation"
   ]
  },
  {
   "cell_type": "code",
   "execution_count": 27,
   "id": "8144c800",
   "metadata": {},
   "outputs": [
    {
     "data": {
      "text/html": [
       "<img src=\"https://4.bp.blogspot.com/-wG7IbjTfE6k/XGUvqm7TCVI/AAAAAAAAAZU/vpH1kuKTIooKTcVlnm1EVRCXLVZM9cPNgCLcBGAs/s1600/formula-MAE-MSE-RMSE-RSquared.JPG\"/>"
      ],
      "text/plain": [
       "<IPython.core.display.Image object>"
      ]
     },
     "execution_count": 27,
     "metadata": {},
     "output_type": "execute_result"
    }
   ],
   "source": [
    "from IPython.display import Image\n",
    "from IPython.core.display import HTML \n",
    "Image(url= \"https://4.bp.blogspot.com/-wG7IbjTfE6k/XGUvqm7TCVI/AAAAAAAAAZU/vpH1kuKTIooKTcVlnm1EVRCXLVZM9cPNgCLcBGAs/s1600/formula-MAE-MSE-RMSE-RSquared.JPG\")"
   ]
  },
  {
   "cell_type": "code",
   "execution_count": 28,
   "id": "699cc678",
   "metadata": {},
   "outputs": [],
   "source": [
    "#Evaluate the model using metric like Mean Absolute Error(MAE), Root Mean Square Error(RMSE) and R-Square\n",
    "from pyspark.ml.evaluation import RegressionEvaluator\n",
    "evaluation = RegressionEvaluator(labelCol=\"charges\", predictionCol=\"prediction\")"
   ]
  },
  {
   "cell_type": "code",
   "execution_count": 29,
   "id": "a47604dd",
   "metadata": {},
   "outputs": [
    {
     "name": "stdout",
     "output_type": "stream",
     "text": [
      "r2: 0.729\n"
     ]
    }
   ],
   "source": [
    "# r2 - coefficient of determination\n",
    "r2 = evaluation.evaluate(pred_results.predictions, {evaluation.metricName: \"r2\"})\n",
    "print(\"r2: %.3f\" %r2)"
   ]
  },
  {
   "cell_type": "code",
   "execution_count": 30,
   "id": "6857bdd3",
   "metadata": {},
   "outputs": [
    {
     "name": "stdout",
     "output_type": "stream",
     "text": [
      "RMSE: 6242.696260847681\n",
      "MSE: 38971256.60520162\n",
      "R2: 0.7291837817259196\n"
     ]
    }
   ],
   "source": [
    "print(\"RMSE: {}\".format(pred_results.rootMeanSquaredError))\n",
    "print(\"MSE: {}\".format(pred_results.meanSquaredError))\n",
    "print(\"R2: {}\".format(pred_results.r2))"
   ]
  },
  {
   "cell_type": "code",
   "execution_count": null,
   "id": "59d53d0e",
   "metadata": {},
   "outputs": [],
   "source": []
  }
 ],
 "metadata": {
  "kernelspec": {
   "display_name": "Python 3",
   "language": "python",
   "name": "python3"
  },
  "language_info": {
   "codemirror_mode": {
    "name": "ipython",
    "version": 3
   },
   "file_extension": ".py",
   "mimetype": "text/x-python",
   "name": "python",
   "nbconvert_exporter": "python",
   "pygments_lexer": "ipython3",
   "version": "3.8.8"
  }
 },
 "nbformat": 4,
 "nbformat_minor": 5
}
